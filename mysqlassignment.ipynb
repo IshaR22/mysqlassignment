{
 "cells": [
  {
   "cell_type": "code",
   "execution_count": null,
   "id": "b7152f81-f66e-4728-9bf7-85a2c8809cfc",
   "metadata": {},
   "outputs": [],
   "source": [
    "Q1. What is a database? Differentiate between SQL and NoSQL databases."
   ]
  },
  {
   "cell_type": "code",
   "execution_count": null,
   "id": "580584f6-9980-4979-8a82-5de59ddc60fc",
   "metadata": {},
   "outputs": [],
   "source": [
    "A database is an organized collection of structured information, or data, typically stored electronically in a computer\n",
    "system. A database is usually controlled by a database management system (DBMS).\n",
    "\n",
    "SQL Databases:\n",
    "SQL databases are relational databases that use structured query language (SQL) for defining and manipulating data.\n",
    "They have a predefined schema, which means the structure of the data (tables, columns, relationships) must be defined \n",
    "before data can be stored.\n",
    "Examples  MySQL, PostgreSQL, Oracle, and Microsoft SQL Server.\n",
    "SQL databases are generally best suited for applications that require complex queries, transactions, and strong\n",
    "consistency guarantees. They are commonly used in traditional enterprise applications and systems\n",
    "\n",
    "NoSQL Databases:\n",
    "NoSQL databases are non-relational databases designed for storing and retrieving large volumes of unstructured or \n",
    "semi-structured data.\n",
    "They offer more flexibility in terms of schema design, allowing for dynamic and schema-less data models.\n",
    "NoSQL databases are horizontally scalable, meaning they can easily handle large amounts of data by adding more nodes to the\n",
    "database cluster.\n",
    "Examples MongoDB, Cassandra, Couchbase, and Redis.\n",
    "NoSQL databases are often used in applications that require high availability, scalability, and performance, such as web \n",
    "applications, real-time analytics, and IoT (Internet of Things) platforms."
   ]
  },
  {
   "cell_type": "code",
   "execution_count": null,
   "id": "4cbb0254-b8bc-4821-8a23-9834ecb615e9",
   "metadata": {},
   "outputs": [],
   "source": [
    "Q2. What is DDL? Explain why CREATE, DROP, ALTER, and TRUNCATE are used with an example."
   ]
  },
  {
   "cell_type": "code",
   "execution_count": null,
   "id": "54c22047-5b2c-4581-8eae-fa072acabbb9",
   "metadata": {},
   "outputs": [],
   "source": [
    "DDL stands for Data Definition Language. It is used for defining and managing the structure of a database and its objects. \n",
    "DDL statements are used to create, modify, and delete database objects such as tables, indexes, and views"
   ]
  },
  {
   "cell_type": "code",
   "execution_count": null,
   "id": "2511d763-c766-4226-90c6-bdd134ee9a74",
   "metadata": {},
   "outputs": [],
   "source": [
    "CREATE: The CREATE statement is used to create new database objects such as tables, indexes, views, or stored procedures.\n",
    "CREATE TABLE employees (\n",
    "    employee_id INT PRIMARY KEY,\n",
    "    first_name VARCHAR(50),\n",
    "    email VARCHAR(100),\n",
    ");\n",
    "\n",
    "DROP: The DROP statement is used to delete existing database objects.\n",
    "DROP TABLE employees;\n",
    "\n",
    "ALTER: The ALTER statement is used to modify the structure of an existing database object. It can be used to add, modify,\n",
    "or drop columns, constraints, or indexes. \n",
    "ALTER TABLE employees\n",
    "ADD department_id INT;\n",
    "\n",
    "TRUNCATE: The TRUNCATE statement is used to delete all rows from a table while preserving the table structure.\n",
    "TRUNCATE TABLE employees;"
   ]
  },
  {
   "cell_type": "code",
   "execution_count": null,
   "id": "46bab1c7-ac91-4ab7-a185-cca00f32240a",
   "metadata": {},
   "outputs": [],
   "source": [
    "Q3. What is DML? Explain INSERT, UPDATE, and DELETE with an example."
   ]
  },
  {
   "cell_type": "code",
   "execution_count": null,
   "id": "aeffa44b-b3c6-48bd-9ed9-d0207961c486",
   "metadata": {},
   "outputs": [],
   "source": [
    "DML stands for Data Manipulation Language. It is  used for manipulating data stored in a database. \n",
    "DML statements are used to perform operations such as inserting, updating, and deleting data within database tables. "
   ]
  },
  {
   "cell_type": "code",
   "execution_count": null,
   "id": "6e46116c-c00e-40fd-a328-9c0b188bdf6b",
   "metadata": {},
   "outputs": [],
   "source": [
    "INSERT: The INSERT statement is used to add new rows of data into a table\n",
    "INSERT INTO employees (employee_id, first_name, last_name, email, hire_date)\n",
    "VALUES (1, 'John', 'Doe', 'john@example.com', '2024-04-29');\n",
    " \n",
    "UPDATE: The UPDATE statement is used to modify existing data in a table\n",
    "UPDATE employees SET email = 'john.doe@example.com' WHERE employee_id = 1;\n",
    "\n",
    "DELETE: The DELETE statement is used to remove one or more rows from a table.\n",
    "DELETE FROM employees WHERE employee_id = 1;\n"
   ]
  },
  {
   "cell_type": "code",
   "execution_count": null,
   "id": "4575fda6-67cd-4faa-83d5-dfc71d1ba48b",
   "metadata": {},
   "outputs": [],
   "source": [
    "Q4. What is DQL? Explain SELECT with an example."
   ]
  },
  {
   "cell_type": "code",
   "execution_count": null,
   "id": "416bf512-bf9e-41be-84af-3a2ec19b962a",
   "metadata": {},
   "outputs": [],
   "source": [
    "DQL stands for Data Query Language. It is used for querying and retrieving data from a database.\n",
    "DQL statements are primarily focused on retrieving data based on specified criteria"
   ]
  },
  {
   "cell_type": "code",
   "execution_count": null,
   "id": "f0a147bc-4cf6-4954-b030-a6a9b6225c56",
   "metadata": {},
   "outputs": [],
   "source": [
    "SELECT: The SELECT statement is used to retrieve data from one or more tables in a database\n",
    "SELECT first_name, last_name\n",
    "FROM employees;"
   ]
  },
  {
   "cell_type": "code",
   "execution_count": null,
   "id": "1d348cdd-02a1-45e4-9453-b3a34f56cccd",
   "metadata": {},
   "outputs": [],
   "source": [
    "Q5. Explain Primary Key and Foreign Key."
   ]
  },
  {
   "cell_type": "code",
   "execution_count": null,
   "id": "3d8dcaa8-3119-4395-a0af-6bdde0419b87",
   "metadata": {},
   "outputs": [],
   "source": [
    "A primary key is a column/set of columns in a table that uniquely identifies each row in that table.\n",
    "It must have a unique value for each row and cannot contain NULL values.\n",
    "When designing a database schema, selecting a primary key is crucial as it helps in uniquely identifying each record \n",
    "and establishing relationships between tables.\n",
    "\n",
    "A foreign key is a column/set of columns in a table that establishes a relationship with a primary key or a unique key\n",
    "in another table. It enforces referential integrity by ensuring that the values in the foreign key columns correspond to\n",
    "values in the primary key or unique key columns in the related table. In other words, a foreign key in one table points \n",
    "to a primary key or unique key in another table, creating a link or a relationship between the two tables."
   ]
  },
  {
   "cell_type": "code",
   "execution_count": null,
   "id": "99463450-b70f-4672-80ae-55b77b7cdd4f",
   "metadata": {},
   "outputs": [],
   "source": [
    "Q6. Write a python code to connect MySQL to python. Explain the cursor() and execute() method."
   ]
  },
  {
   "cell_type": "code",
   "execution_count": null,
   "id": "d9279feb-916e-473f-b346-29c90ddc1574",
   "metadata": {},
   "outputs": [],
   "source": [
    "import mysql.connector\n",
    "\n",
    "mydb = mysql.connector.connect(\n",
    "    host=\"localhost\",\n",
    "    user=\"abc\",\n",
    "    password=\"password\"\n",
    ")\n",
    "mycursor = mydb.cursor()\n",
    "\n",
    "The cursor() method is used to create a cursor object. A cursor is a control structure that enables traversal over the records\n",
    "in a database. It allows to execute SQL queries,fetch data, and perform various operations on the database.\n",
    "\n",
    "The execute() method is used to execute SQL queries or commands through the cursor object. It takes the SQL query as a\n",
    "parameter and executes it on the connected database"
   ]
  },
  {
   "cell_type": "code",
   "execution_count": null,
   "id": "aa21e981-3316-4d7d-9026-a434ff87506b",
   "metadata": {},
   "outputs": [],
   "source": [
    "Q7. Give the order of execution of SQL clauses in an SQL query."
   ]
  },
  {
   "cell_type": "code",
   "execution_count": null,
   "id": "b0de61cd-0d8f-4ac0-90cb-3246908ae852",
   "metadata": {},
   "outputs": [],
   "source": [
    "In SQL, the order of execution of clauses in an SQL query is generally as follows:\n",
    "\n",
    "FROM: This clause specifies the table from which the data will be retrieved.\n",
    "WHERE: This clause filters rows based on a specified condition.\n",
    "GROUP BY: This clause groups rows that have the same values into summary rows.\n",
    "HAVING: This clause filters groups based on a specified condition.\n",
    "SELECT: This clause selects the columns that you want to include in the result set.\n",
    "DISTINCT: This clause eliminates duplicate rows from the result set.\n",
    "ORDER BY: This clause sorts the result set based on specified columns."
   ]
  }
 ],
 "metadata": {
  "kernelspec": {
   "display_name": "Python 3 (ipykernel)",
   "language": "python",
   "name": "python3"
  },
  "language_info": {
   "codemirror_mode": {
    "name": "ipython",
    "version": 3
   },
   "file_extension": ".py",
   "mimetype": "text/x-python",
   "name": "python",
   "nbconvert_exporter": "python",
   "pygments_lexer": "ipython3",
   "version": "3.10.8"
  }
 },
 "nbformat": 4,
 "nbformat_minor": 5
}
